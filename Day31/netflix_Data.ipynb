{
 "cells": [
  {
   "cell_type": "code",
   "execution_count": null,
   "id": "c49fdea6",
   "metadata": {
    "vscode": {
     "languageId": "plaintext"
    }
   },
   "outputs": [],
   "source": [
    "import __future__\n",
    "import numpy as np\n",
    "import pandas as pd\n",
    "# Import visualization libraries and set favourite grid style\n",
    "import seaborn as sns\n",
    "import matplotlib.pyplot as plt\n",
    "sns.set_style('whitegrid')\n",
    "# Read in the dataset\n",
    "iris = pd.read_csv('Iris.csv')"
   ]
  }
 ],
 "metadata": {
  "language_info": {
   "name": "python"
  }
 },
 "nbformat": 4,
 "nbformat_minor": 5
}
