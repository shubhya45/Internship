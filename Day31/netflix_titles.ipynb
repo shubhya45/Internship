{
 "cells": [
  {
   "cell_type": "code",
   "execution_count": 1,
   "id": "c49fdea6",
   "metadata": {},
   "outputs": [],
   "source": [
    "import __future__\n",
    "import numpy as np\n",
    "import pandas as pd\n",
    "# Import visualization libraries and set favourite grid style\n",
    "import seaborn as sns\n",
    "import matplotlib.pyplot as plt\n",
    "sns.set_style('whitegrid')\n",
    "# Read in the dataset\n",
    "netflix_Data = pd.read_csv('netflix_titles.csv')\n"
   ]
  },
  {
   "cell_type": "code",
   "execution_count": null,
   "id": "ff464e78",
   "metadata": {},
   "outputs": [],
   "source": [
    "# 📊 Basic Data Exploration\n",
    "# 1.\tWhat are the total number of:\n",
    "# o\tMovies\n",
    "# o\tTV Shows\n",
    "# 2.\tDisplay the top 10 countries producing the most Netflix content.\n",
    "# 3.\tWhat is the most common rating assigned to the content (e.g., TV-MA, PG-13)?\n",
    "# 4.\tFind the number of titles released each year and plot it as a bar chart.\n"
   ]
  }
 ],
 "metadata": {
  "kernelspec": {
   "display_name": "Python 3",
   "language": "python",
   "name": "python3"
  },
  "language_info": {
   "codemirror_mode": {
    "name": "ipython",
    "version": 3
   },
   "file_extension": ".py",
   "mimetype": "text/x-python",
   "name": "python",
   "nbconvert_exporter": "python",
   "pygments_lexer": "ipython3",
   "version": "3.13.3"
  }
 },
 "nbformat": 4,
 "nbformat_minor": 5
}
